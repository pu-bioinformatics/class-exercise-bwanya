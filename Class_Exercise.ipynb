{
 "cells": [
  {
   "cell_type": "markdown",
   "metadata": {},
   "source": [
    "Question 1: Write a function to convert celcius to fahrenheit"
   ]
  },
  {
   "cell_type": "code",
   "execution_count": 3,
   "metadata": {},
   "outputs": [
    {
     "data": {
      "text/plain": [
       "68.0"
      ]
     },
     "execution_count": 3,
     "metadata": {},
     "output_type": "execute_result"
    }
   ],
   "source": [
    "C = 20\n",
    "temp_fahrenheit = C *9/5+32\n",
    "def temp_conversion():\n",
    "    temp_fahrenheit = C *9/5+32 \n",
    "    return temp_fahrenheit\n",
    "temp_conversion()   "
   ]
  },
  {
   "cell_type": "markdown",
   "metadata": {},
   "source": [
    "Question 2: Write a function that given weight and height returns the BMI of the person"
   ]
  },
  {
   "cell_type": "code",
   "execution_count": 5,
   "metadata": {},
   "outputs": [
    {
     "data": {
      "text/plain": [
       "29.333333333333332"
      ]
     },
     "execution_count": 5,
     "metadata": {},
     "output_type": "execute_result"
    }
   ],
   "source": [
    "Height = 1.5\n",
    "weight = 66\n",
    "def BMI():\n",
    "    BMI = weight/Height**2\n",
    "    return BMI\n",
    "BMI()"
   ]
  },
  {
   "cell_type": "markdown",
   "metadata": {},
   "source": [
    "Question 3: Create a program that asks the user to enter their name and their age. Print out a message addressed to them that tells them the year that they will turn 100 years old"
   ]
  },
  {
   "cell_type": "code",
   "execution_count": null,
   "metadata": {},
   "outputs": [],
   "source": [
    "Name = input(\"Please enter your name: \")\n",
    "Age = int(input(\"Enter age: \"))\n",
    "current_year = 2019\n",
    "Centigenerian_year = (100 - Age) + current_year\n",
    "print(\"You will be 100 years old by\",Centigenerian_year)"
   ]
  },
  {
   "cell_type": "markdown",
   "metadata": {},
   "source": [
    "Question 4 : Write a function that returns the maximum of two numbers"
   ]
  },
  {
   "cell_type": "code",
   "execution_count": 12,
   "metadata": {},
   "outputs": [
    {
     "data": {
      "text/plain": [
       "8"
      ]
     },
     "execution_count": 12,
     "metadata": {},
     "output_type": "execute_result"
    }
   ],
   "source": [
    "num1 = 8\n",
    "num2 = 6\n",
    "def maxNO(num1, num2):\n",
    "    return max(num1, num2)\n",
    "maxNO(num1, num2)"
   ]
  },
  {
   "cell_type": "markdown",
   "metadata": {},
   "source": [
    "Question 5: Write a function called fizz_buzz that takes a number.\n",
    "     - If the number is divisible by 3, it should return “Fizz”.\n",
    "     - If it is divisible by 5, it should return “Buzz”.\n",
    "     - If it is divisible by both 3 and 5, it should return “FizzBuzz”"
   ]
  },
  {
   "cell_type": "code",
   "execution_count": 10,
   "metadata": {},
   "outputs": [
    {
     "data": {
      "text/plain": [
       "'Buzz'"
      ]
     },
     "execution_count": 10,
     "metadata": {},
     "output_type": "execute_result"
    }
   ],
   "source": [
    "num = 265\n",
    "def fizz_buzz(num):\n",
    "    if num%3==0:\n",
    "        return \"Fizz\"\n",
    "    if num%5==0:\n",
    "        return \"Buzz\"\n",
    "    if num%3 or num%5==0:\n",
    "        return FizzBuzz\n",
    "fizz_buzz(num)"
   ]
  },
  {
   "cell_type": "markdown",
   "metadata": {},
   "source": [
    "Question 6: Write a function for checking the speed of drivers. This function should have one parameter: speed.\n",
    "        - If speed is less than 70, it should print “Ok”.\n",
    "        - Otherwise, for every 5km above the speed limit (70), it should give the driver one demerit point and print the total number of demerit points. For example, if the speed is 80, it should print: “Points: 2”.\n",
    "        - If the driver gets more than 12 points, the function should print: “License suspended”"
   ]
  },
  {
   "cell_type": "code",
   "execution_count": 9,
   "metadata": {},
   "outputs": [
    {
     "data": {
      "text/plain": [
       "3.0"
      ]
     },
     "execution_count": 9,
     "metadata": {},
     "output_type": "execute_result"
    }
   ],
   "source": [
    "speed = 80\n",
    "def speed_check(speed):\n",
    "    if speed<70:\n",
    "        return \"ok\"\n",
    "    else:\n",
    "        if speed/5>14:\n",
    "            points = 1 + speed/5 - 14\n",
    "            return points\n",
    "        if points>12:\n",
    "            return \"License suspended\"\n",
    "speed_check(speed)"
   ]
  },
  {
   "cell_type": "markdown",
   "metadata": {},
   "source": [
    "Question 7: Write a function called showNumbers that takes a parameter called limit. It should print all the numbers between 0 and limit with a label to identify the even and odd numbers. For example, if the limit is 3, it should print:\n",
    "        - 0 EVEN\n",
    "        - 1 ODD\n",
    "        - 2 EVEN\n",
    "        - 3 ODD"
   ]
  },
  {
   "cell_type": "code",
   "execution_count": 16,
   "metadata": {},
   "outputs": [
    {
     "ename": "SyntaxError",
     "evalue": "invalid syntax (<ipython-input-16-83fb2b194b35>, line 4)",
     "output_type": "error",
     "traceback": [
      "\u001b[0;36m  File \u001b[0;32m\"<ipython-input-16-83fb2b194b35>\"\u001b[0;36m, line \u001b[0;32m4\u001b[0m\n\u001b[0;31m    if i%2==0\u001b[0m\n\u001b[0m             ^\u001b[0m\n\u001b[0;31mSyntaxError\u001b[0m\u001b[0;31m:\u001b[0m invalid syntax\n"
     ]
    }
   ],
   "source": [
    "limit = 20\n",
    "def showNumbers(limit):\n",
    "    for i in (0,limit):\n",
    "        if i%2==0\n",
    "            print()\n",
    "        else:\n",
    "            return \"odd\"\n",
    "showNumbers(limit)"
   ]
  },
  {
   "cell_type": "markdown",
   "metadata": {},
   "source": [
    "Question 8:  Write a function that returns the sum of multiples of 3 and 5 between 0 and limit (parameter). For example, if limit is 20, it should return the sum of 3, 5, 6, 9, 10, 12, 15, 18, 20."
   ]
  },
  {
   "cell_type": "code",
   "execution_count": null,
   "metadata": {},
   "outputs": [],
   "source": []
  },
  {
   "cell_type": "markdown",
   "metadata": {},
   "source": [
    "Question 9: Write a function called show_stars(rows). If rows is 5, it should print the following:\n",
    "``` \n",
    "        *\n",
    "        **\n",
    "        ***\n",
    "        ****\n",
    "        *****"
   ]
  },
  {
   "cell_type": "code",
   "execution_count": null,
   "metadata": {},
   "outputs": [],
   "source": []
  },
  {
   "cell_type": "markdown",
   "metadata": {},
   "source": [
    "Question 10: Write a function that prints all the prime numbers between 0 and limit where limit is a parameter.\n"
   ]
  },
  {
   "cell_type": "code",
   "execution_count": 32,
   "metadata": {},
   "outputs": [
    {
     "ename": "SyntaxError",
     "evalue": "invalid syntax (<ipython-input-32-7278d8e82b3e>, line 2)",
     "output_type": "error",
     "traceback": [
      "\u001b[0;36m  File \u001b[0;32m\"<ipython-input-32-7278d8e82b3e>\"\u001b[0;36m, line \u001b[0;32m2\u001b[0m\n\u001b[0;31m    def prime_numbers(1,50):\u001b[0m\n\u001b[0m                      ^\u001b[0m\n\u001b[0;31mSyntaxError\u001b[0m\u001b[0;31m:\u001b[0m invalid syntax\n"
     ]
    }
   ],
   "source": [
    "Prime_numbers = range()\n",
    "def prime_numbers(1,50):\n",
    "    for i in range(1,50):\n",
    "        no = Prime_numbers\n",
    "        if i%3==0:\n",
    "            print(no)\n",
    "prime_numbers()    "
   ]
  },
  {
   "cell_type": "code",
   "execution_count": null,
   "metadata": {},
   "outputs": [],
   "source": []
  },
  {
   "cell_type": "code",
   "execution_count": null,
   "metadata": {},
   "outputs": [],
   "source": []
  }
 ],
 "metadata": {
  "kernelspec": {
   "display_name": "Python 3",
   "language": "python",
   "name": "python3"
  },
  "language_info": {
   "codemirror_mode": {
    "name": "ipython",
    "version": 3
   },
   "file_extension": ".py",
   "mimetype": "text/x-python",
   "name": "python",
   "nbconvert_exporter": "python",
   "pygments_lexer": "ipython3",
   "version": "3.7.2"
  }
 },
 "nbformat": 4,
 "nbformat_minor": 2
}
